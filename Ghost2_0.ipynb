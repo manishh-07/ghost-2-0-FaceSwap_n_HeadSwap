{
 "cells": [
  {
   "cell_type": "markdown",
   "metadata": {
    "id": "PVaAeTx0uMrB"
   },
   "source": [
    "# Setup"
   ]
  },
  {
   "cell_type": "code",
   "execution_count": null,
   "metadata": {
    "id": "pjldg02co-9J"
   },
   "outputs": [],
   "source": [
    "!pip install -q condacolab gdown"
   ]
  },
  {
   "cell_type": "code",
   "execution_count": null,
   "metadata": {
    "colab": {
     "base_uri": "https://localhost:8080/"
    },
    "executionInfo": {
     "elapsed": 12727,
     "status": "ok",
     "timestamp": 1750913209118,
     "user": {
      "displayName": "Jagrut Thakare",
      "userId": "17262886950997985840"
     },
     "user_tz": -330
    },
    "id": "Tbhc4eo9EV-w",
    "outputId": "85b9dcf9-d685-4ea1-882b-bc7522f73310"
   },
   "outputs": [],
   "source": [
    "import condacolab\n",
    "condacolab.install()"
   ]
  },
  {
   "cell_type": "code",
   "execution_count": null,
   "metadata": {},
   "outputs": [],
   "source": [
    "# !rm -rf /content/ghost-2-0-FaceSwap_n_HeadSwap"
   ]
  },
  {
   "cell_type": "code",
   "execution_count": null,
   "metadata": {
    "id": "nSS3f3aO-4Ta"
   },
   "outputs": [],
   "source": [
    "import os\n",
    "import zipfile\n",
    "\n",
    "%cd /content\n",
    "\n",
    "! git clone --recurse-submodules https://github.com/manishh-07/ghost-2-0-FaceSwap_n_HeadSwap.git\n",
    "%cd ghost-2-0-FaceSwap_n_HeadSwap\n",
    "! git submodule init\n",
    "! git submodule update\n",
    "os.makedirs(\"aligner_checkpoints\", exist_ok=True)\n",
    "os.makedirs(\"blender_checkpoints\", exist_ok=True)\n",
    "os.makedirs(\"src/losses/gaze_models\", exist_ok=True)\n",
    "os.makedirs(\"weights\", exist_ok=True)\n",
    "\n",
    "! wget -O aligner_checkpoints/aligner_1020_gaze_final.ckpt https://github.com/ai-forever/ghost-2.0/releases/download/aligner/aligner_1020_gaze_final.ckpt\n",
    "! wget -O blender_checkpoints/blender_lama.ckpt https://github.com/ai-forever/ghost-2.0/releases/download/aligner/blender_lama.ckpt\n",
    "! wget -O weights/backbone50_1.pth https://github.com/ai-forever/ghost-2.0/releases/download/aligner/backbone50_1.pth\n",
    "! wget -O weights/vgg19-d01eb7cb.pth https://github.com/ai-forever/ghost-2.0/releases/download/aligner/vgg19-d01eb7cb.pth\n",
    "! wget -O weights/segformer_B5_ce.onnx https://github.com/ai-forever/ghost-2.0/releases/download/aligner/segformer_B5_ce.onnx\n",
    "! wget -O gaze_models.zip https://github.com/ai-forever/ghost-2.0/releases/download/aligner/gaze_models.zip\n",
    "\n",
    "with zipfile.ZipFile(\"gaze_models.zip\", 'r') as zip_ref:\n",
    "    zip_ref.extractall(\"src/losses/\")\n",
    "\n",
    "os.remove(\"gaze_models.zip\")\n",
    "print(\"✅ All models downloaded and extracted successfully.\")\n",
    "\n",
    "! mkdir repos\n",
    "\n",
    "%cd repos\n",
    "\n",
    "! git clone --recurse-submodules https://github.com/yfeng95/DECA\n",
    "%cd DECA\n",
    "! git submodule init\n",
    "! git submodule update\n",
    "%cd ..\n",
    "\n",
    "! git clone --recurse-submodules https://github.com/jagrut-thakare/emoca\n",
    "%cd emoca\n",
    "\n",
    "! git submodule init\n",
    "! git submodule update\n",
    "\n",
    "os.makedirs(\"gdl_apps/EmotionRecognition\", exist_ok=True)\n",
    "os.makedirs(\"assets/EmotionRecognition/image_based_networks\", exist_ok=True)\n",
    "\n",
    "!wget -O ResNet50.zip https://github.com/anastasia-yaschenko/emoca/releases/download/resnet/ResNet50.zip\n",
    "\n",
    "with zipfile.ZipFile(\"ResNet50.zip\", 'r') as zip_ref:\n",
    "    zip_ref.extractall(\"gdl_apps/EmotionRecognition\")\n",
    "    zip_ref.extractall(\"assets/EmotionRecognition/image_based_networks\")\n",
    "\n",
    "os.remove(\"ResNet50.zip\")\n",
    "\n",
    "print(\"✅ ResNet checkpoints downloaded, unpacked, and ZIP removed.\")\n",
    "%cd ..\n",
    "\n",
    "! git clone --recurse-submodules https://github.com/anastasia-yaschenko/BlazeFace_PyTorch\n",
    "\n",
    "%cd BlazeFace_PyTorch\n",
    "! git submodule init\n",
    "! git submodule update\n",
    "%cd ..\n",
    "\n",
    "! git clone --recurse-submodules https://github.com/chroneus/stylematte\n",
    "\n",
    "%cd stylematte\n",
    "\n",
    "! git submodule init\n",
    "! git submodule update\n",
    "\n",
    "os.makedirs(\"stylematte/checkpoints\", exist_ok=True)\n",
    "os.makedirs(\"stylegan3\", exist_ok=True)\n",
    "\n",
    "!wget -O stylematte/checkpoints/stylematte_pure.pth https://github.com/chroneus/stylematte/releases/download/weights/stylematte_pure.pth\n",
    "!wget -O stylematte/checkpoints/stylematte_synth.pth https://github.com/chroneus/stylematte/releases/download/weights/stylematte_synth.pth\n",
    "!wget -O stylegan3/animals.pkl https://github.com/chroneus/stylematte/releases/download/weights/animals.pkl\n",
    "!wget -O stylegan3/humans.pkl https://github.com/chroneus/stylematte/releases/download/weights/humans.pkl\n",
    "%cd ..\n",
    "\n",
    "%cd .."
   ]
  },
  {
   "cell_type": "code",
   "execution_count": null,
   "metadata": {
    "colab": {
     "base_uri": "https://localhost:8080/"
    },
    "executionInfo": {
     "elapsed": 49,
     "status": "ok",
     "timestamp": 1750913655130,
     "user": {
      "displayName": "Jagrut Thakare",
      "userId": "17262886950997985840"
     },
     "user_tz": -330
    },
    "id": "HnpX8_-nkC0K",
    "outputId": "8b07ba78-3b03-4894-dd0a-d2e3c70e9f7c"
   },
   "outputs": [],
   "source": [
    "%cd /content/ghost-2-0-FaceSwap_n_HeadSwap"
   ]
  },
  {
   "cell_type": "code",
   "execution_count": null,
   "metadata": {
    "colab": {
     "base_uri": "https://localhost:8080/"
    },
    "executionInfo": {
     "elapsed": 35440,
     "status": "ok",
     "timestamp": 1750913691338,
     "user": {
      "displayName": "Jagrut Thakare",
      "userId": "17262886950997985840"
     },
     "user_tz": -330
    },
    "id": "84Fs576UU49E",
    "outputId": "1c77c5ee-f954-4a2d-b498-d763d64cc594"
   },
   "outputs": [],
   "source": [
    "! conda config --add channels conda-forge\n",
    "! conda config --set channel_priority strict\n",
    "! conda create -n ghost python=3.10"
   ]
  },
  {
   "cell_type": "code",
   "execution_count": null,
   "metadata": {
    "colab": {
     "base_uri": "https://localhost:8080/"
    },
    "executionInfo": {
     "elapsed": 290104,
     "status": "ok",
     "timestamp": 1750913981445,
     "user": {
      "displayName": "Jagrut Thakare",
      "userId": "17262886950997985840"
     },
     "user_tz": -330
    },
    "id": "R8Lw3AzzOqQL",
    "outputId": "e458f9a9-bb08-48db-ac0a-326c0b313382"
   },
   "outputs": [],
   "source": [
    "! conda run -n ghost pip install -r requirements.txt"
   ]
  },
  {
   "cell_type": "code",
   "execution_count": null,
   "metadata": {
    "colab": {
     "base_uri": "https://localhost:8080/"
    },
    "executionInfo": {
     "elapsed": 191284,
     "status": "ok",
     "timestamp": 1750914172722,
     "user": {
      "displayName": "Jagrut Thakare",
      "userId": "17262886950997985840"
     },
     "user_tz": -330
    },
    "id": "TNz05y2ZOoyo",
    "outputId": "46da2088-9c6b-4925-cbb7-115c7188813b"
   },
   "outputs": [],
   "source": [
    "! conda install -n ghost -c pytorch3d-nightly pytorch3d\n",
    "! conda run -n ghost pip install face-alignment==1.3.5 facenet-pytorch==2.5.2 -U git+https://github.com/facebookresearch/fvcore"
   ]
  },
  {
   "cell_type": "code",
   "execution_count": null,
   "metadata": {
    "colab": {
     "base_uri": "https://localhost:8080/"
    },
    "executionInfo": {
     "elapsed": 40519,
     "status": "ok",
     "timestamp": 1750914213248,
     "user": {
      "displayName": "Jagrut Thakare",
      "userId": "17262886950997985840"
     },
     "user_tz": -330
    },
    "id": "Y5W7FHu0oeLz",
    "outputId": "95486f59-47be-4522-b342-1d020ba13252"
   },
   "outputs": [],
   "source": [
    "!conda run -n ghost conda install scikit-image"
   ]
  },
  {
   "cell_type": "code",
   "execution_count": null,
   "metadata": {
    "id": "e02a064e"
   },
   "outputs": [],
   "source": [
    "!conda run -n ghost conda install -c conda-forge imgaug"
   ]
  },
  {
   "cell_type": "code",
   "execution_count": null,
   "metadata": {
    "id": "0afb8ccd"
   },
   "outputs": [],
   "source": [
    "!conda run -n ghost conda install numpy==1.23.5"
   ]
  },
  {
   "cell_type": "code",
   "execution_count": null,
   "metadata": {
    "id": "069oaBBtd5ye"
   },
   "outputs": [],
   "source": [
    "!conda run -n ghost conda install tensorboardX tensorboard"
   ]
  },
  {
   "cell_type": "markdown",
   "metadata": {
    "id": "nJ000ksGuFAB"
   },
   "source": [
    "# DECA Model"
   ]
  },
  {
   "cell_type": "code",
   "execution_count": null,
   "metadata": {
    "colab": {
     "base_uri": "https://localhost:8080/",
     "height": 144
    },
    "executionInfo": {
     "elapsed": 6281,
     "status": "ok",
     "timestamp": 1750914341037,
     "user": {
      "displayName": "Jagrut Thakare",
      "userId": "17262886950997985840"
     },
     "user_tz": -330
    },
    "id": "DGYmnv-UzFvd",
    "outputId": "837e4676-37ac-4e53-a4f3-1ad35b70e730"
   },
   "outputs": [],
   "source": [
    "import gdown\n",
    "\n",
    "file_id = \"1rp8kdyLPvErw2dTmqtjISRVvQLj6Yzje\"\n",
    "destination = \"/content/ghost-2-0-FaceSwap_n_HeadSwap/repos/DECA/data/deca_model.tar\"\n",
    "\n",
    "gdown.download(id=file_id, output=destination, quiet=False)"
   ]
  },
  {
   "cell_type": "code",
   "execution_count": null,
   "metadata": {
    "colab": {
     "base_uri": "https://localhost:8080/"
    },
    "executionInfo": {
     "elapsed": 10511,
     "status": "ok",
     "timestamp": 1750914438780,
     "user": {
      "displayName": "Jagrut Thakare",
      "userId": "17262886950997985840"
     },
     "user_tz": -330
    },
    "id": "ND3x8X3OuElb",
    "outputId": "ae5ac58f-ee14-4957-d653-02729fa98f93"
   },
   "outputs": [],
   "source": [
    "import os\n",
    "from google.colab import userdata\n",
    "\n",
    "# Create data directory\n",
    "os.makedirs(\"data\", exist_ok=True)\n",
    "\n",
    "# Set FLAME credentials (assumed to be already set)\n",
    "username = userdata.get('DECA')\n",
    "password = userdata.get('DECA_Password')\n",
    "\n",
    "# Check if credentials are provided\n",
    "if not username or not password:\n",
    "    raise ValueError(\"Environment variables  must be set.\")\n",
    "\n",
    "# Encode username and password for URL\n",
    "import urllib.parse\n",
    "username_enc = urllib.parse.quote_plus(username)\n",
    "password_enc = urllib.parse.quote_plus(password)\n",
    "\n",
    "# Create the download command\n",
    "download_url = f\"https://download.is.tue.mpg.de/download.php?domain=flame&sfile=FLAME2020.zip&resume=1\"\n",
    "post_data = f\"username={username_enc}&password={password_enc}\"\n",
    "\n",
    "# Use wget with POST data\n",
    "!wget --post-data=\"{post_data}\" \"{download_url}\" -O DECA.zip --no-check-certificate --continue\n",
    "\n",
    "# Unzip and move model file\n",
    "!unzip DECA.zip -d ./temp\n",
    "!mv ./temp/* /content/ghost-2-0-FaceSwap_n_HeadSwap/repos/DECA/data/\n",
    "!rm -rf ./temp/\n",
    "!rm -rf DECA.zip"
   ]
  },
  {
   "cell_type": "markdown",
   "metadata": {
    "id": "3Q6IZINTuIkd"
   },
   "source": [
    "# EMOCA ResNet50"
   ]
  },
  {
   "cell_type": "code",
   "execution_count": null,
   "metadata": {
    "colab": {
     "base_uri": "https://localhost:8080/"
    },
    "executionInfo": {
     "elapsed": 4377,
     "status": "ok",
     "timestamp": 1750914443159,
     "user": {
      "displayName": "Jagrut Thakare",
      "userId": "17262886950997985840"
     },
     "user_tz": -330
    },
    "id": "sVrvt_Pj5YFN",
    "outputId": "2421fdbb-e0fa-4709-90de-00ba92f0603d"
   },
   "outputs": [],
   "source": [
    "import os\n",
    "import gdown\n",
    "\n",
    "# Create the directory\n",
    "os.makedirs(\"/ps/scratch/rdanecek/FaceRecognition/\", exist_ok=True)\n",
    "# Google Drive file ID\n",
    "file_id = \"1gSUm_sZFOjcHij4wBptI3CEvmWQzVHoS\"\n",
    "output_path = \"/ps/scratch/rdanecek/FaceRecognition/resnet50_ft_weight.pkl\"\n",
    "\n",
    "# Remove the file if it exists before downloading\n",
    "if os.path.exists(output_path):\n",
    "    os.remove(output_path)\n",
    "    print(f\"Removed existing file: {output_path}\")\n",
    "\n",
    "# Download the file\n",
    "gdown.download(f\"https://drive.google.com/uc?id={file_id}\", output_path, quiet=False)\n",
    "print(f\"Downloaded file to: {output_path}\")"
   ]
  },
  {
   "cell_type": "markdown",
   "metadata": {
    "id": "18P20z7nVOwq"
   },
   "source": [
    "# Training"
   ]
  },
  {
   "cell_type": "code",
   "execution_count": null,
   "metadata": {},
   "outputs": [],
   "source": [
    "%cd /content/ghost-2-0-FaceSwap_n_HeadSwap"
   ]
  },
  {
   "cell_type": "code",
   "execution_count": null,
   "metadata": {},
   "outputs": [],
   "source": [
    "import os\n",
    "os.environ[\"MPLBACKEND\"] = \"agg\""
   ]
  },
  {
   "cell_type": "code",
   "execution_count": null,
   "metadata": {},
   "outputs": [],
   "source": [
    "!conda run -n ghost pip install lightning==2.5.0.post0\n",
    "!conda run -n ghost pip install omegaconf==2.3.0\n",
    "!conda run -n ghost pip install transformers==4.48.2\n",
    "!conda run -n ghost pip install adabound==0.0.5\n",
    "!conda run -n ghost pip install torchfile==0.1.0\n",
    "!conda run -n ghost pip install scikit-image==0.25.1\n",
    "!conda run -n ghost pip install imgaug==0.4.0\n",
    "!conda run -n ghost pip install gdown\n",
    "!conda run -n ghost pip install matplotlib==3.10.0\n",
    "!conda run -n ghost pip install h5py==3.12.1\n",
    "!conda run -n ghost pip install facenet-pytorch\n",
    "!conda run -n ghost pip install face-alignment\n",
    "!conda run -n ghost pip install mediapipe==0.10.21\n",
    "!conda run -n ghost pip install wandb==0.19.6\n",
    "!conda run -n ghost pip install kornia==0.8.0\n",
    "!conda run -n ghost pip install lpips==0.1.4\n",
    "!conda run -n ghost pip install pytorch-msssim==1.0.0\n",
    "!conda run -n ghost pip install pytorch_fid\n",
    "!conda run -n ghost pip install einops==0.8.0\n",
    "# !conda run -n ghost pip install \"numpy>=1.23.5,<2.5.0\"\n",
    "! conda run -n ghost pip install chumpy==0.70\n",
    "! conda run -n ghost pip install Pillow\n",
    "\n",
    "! conda run -n ghost pip install -r requirements.txt"
   ]
  },
  {
   "cell_type": "code",
   "execution_count": null,
   "metadata": {},
   "outputs": [],
   "source": [
    "import os\n",
    "import cv2\n",
    "from PIL import Image\n",
    "import shutil\n",
    " \n",
    "def repair_and_save_as_png(src_dir, dst_dir):\n",
    "    os.makedirs(dst_dir, exist_ok=True)\n",
    " \n",
    "    for person in os.listdir(src_dir):\n",
    "        person_path = os.path.join(src_dir, person)\n",
    "        dst_person_path = os.path.join(dst_dir, person)\n",
    "        os.makedirs(dst_person_path, exist_ok=True)\n",
    " \n",
    "        for img_file in os.listdir(person_path):\n",
    "            src_img_path = os.path.join(person_path, img_file)\n",
    "            file_base, _ = os.path.splitext(img_file)\n",
    "            dst_img_path = os.path.join(dst_person_path, f\"{file_base}.png\")\n",
    " \n",
    "            try:\n",
    "                # Attempt OpenCV read\n",
    "                img = cv2.imread(src_img_path)\n",
    "                if img is None:\n",
    "                    print(f\"[SKIP] cv2 couldn't read: {src_img_path}\")\n",
    "                    continue\n",
    " \n",
    "                # Convert to RGB\n",
    "                img_rgb = cv2.cvtColor(img, cv2.COLOR_BGR2RGB)\n",
    " \n",
    "                # Save as PNG using PIL (ensures compatibility with ML pipelines)\n",
    "                Image.fromarray(img_rgb).save(dst_img_path)\n",
    "                print(f\"[REPAIRED] Saved: {dst_img_path}\")\n",
    " \n",
    "            except Exception as e:\n",
    "                print(f\"[FAIL] {src_img_path} - {e}\")\n",
    "                continue\n",
    " \n",
    "repair_and_save_as_png(\n",
    "    src_dir='/content/ghost-2.0/src/data/train/',\n",
    "    dst_dir='/content/ghost-2.0/src/data/ABD_train'\n",
    ")"
   ]
  },
  {
   "cell_type": "code",
   "execution_count": null,
   "metadata": {},
   "outputs": [],
   "source": [
    "!pip install torch torchvision\n"
   ]
  },
  {
   "cell_type": "code",
   "execution_count": null,
   "metadata": {},
   "outputs": [],
   "source": [
    "\n",
    "! conda run -n ghost python /content/ghost-2-0-FaceSwap_n_HeadSwap/v2h5.py --input /content/ghost-2-0-FaceSwap_n_HeadSwap/src/data/train --output /content/ghost-2-0-FaceSwap_n_HeadSwap/src/data/train_h5\n",
    "! conda run -n ghost python /content/ghost-2-0-FaceSwap_n_HeadSwap/v2h5.py --input /content/ghost-2-0-FaceSwap_n_HeadSwap/src/data/test --output /content/ghost-2-0-FaceSwap_n_HeadSwap/src/data/test_h5"
   ]
  },
  {
   "cell_type": "code",
   "execution_count": null,
   "metadata": {
    "id": "l2EnLqR-u20z"
   },
   "outputs": [],
   "source": [
    "# ! conda run -n ghost python v2h5.py"
   ]
  },
  {
   "cell_type": "code",
   "execution_count": null,
   "metadata": {},
   "outputs": [],
   "source": [
    "!conda run -n ghost pip install numpy==1.23.5"
   ]
  },
  {
   "cell_type": "code",
   "execution_count": null,
   "metadata": {
    "id": "4WQEU5evrLUB"
   },
   "outputs": [],
   "source": [
    "# ! conda run -n ghost pip install h5py"
   ]
  },
  {
   "cell_type": "code",
   "execution_count": null,
   "metadata": {},
   "outputs": [],
   "source": [
    "!conda run -n ghost pip install --force-reinstall packaging"
   ]
  },
  {
   "cell_type": "code",
   "execution_count": null,
   "metadata": {
    "id": "wr7L6JSxVRKE"
   },
   "outputs": [],
   "source": [
    "! conda run -n ghost python train_aligner.py"
   ]
  },
  {
   "cell_type": "code",
   "execution_count": null,
   "metadata": {},
   "outputs": [],
   "source": [
    "!conda run -n ghost python train_blender.py --config /content/ghost-2-0-FaceSwap_n_HeadSwap/configs/blender.yaml"
   ]
  },
  {
   "cell_type": "markdown",
   "metadata": {
    "id": "DRceu9Xkuh_M"
   },
   "source": [
    "# Inference"
   ]
  },
  {
   "cell_type": "code",
   "execution_count": null,
   "metadata": {},
   "outputs": [],
   "source": [
    "%cd /content/ghost-2-0-FaceSwap_n_HeadSwap"
   ]
  },
  {
   "cell_type": "code",
   "execution_count": null,
   "metadata": {
    "id": "YlgZIAdgowwr"
   },
   "outputs": [],
   "source": [
    "import os\n",
    "os.environ[\"MPLBACKEND\"] = \"agg\""
   ]
  },
  {
   "cell_type": "code",
   "execution_count": null,
   "metadata": {
    "colab": {
     "base_uri": "https://localhost:8080/"
    },
    "executionInfo": {
     "elapsed": 95140,
     "status": "ok",
     "timestamp": 1750917868332,
     "user": {
      "displayName": "Jagrut Thakare",
      "userId": "17262886950997985840"
     },
     "user_tz": -330
    },
    "id": "295c54ea",
    "outputId": "3190f5f5-b1e6-48a4-9862-c374d10f5a2a"
   },
   "outputs": [],
   "source": [
    "!conda run -n ghost python inference.py --source ./examples/images/elon.jpg --target ./examples/images/jolie.jpg --save_path result1.png\n",
    "\n",
    "#or if trained model\n",
    "\n",
    "# !conda run -n ghost python inference.py \\\n",
    "#   --source path/to/source.jpg \\\n",
    "#   --target path/to/target.jpg \\\n",
    "#   --ckpt_a path/to/your_trained_aligner_checkpoint.ckpt \\\n",
    "#   --ckpt_b blender_checkpoints/blender_lama.ckpt \\\n",
    "#   --swap_mode both \\\n",
    "#   --save_path result.png"
   ]
  },
  {
   "cell_type": "markdown",
   "metadata": {},
   "source": [
    "# **FaceSwap layer using InsightFace Inswapper Model**"
   ]
  },
  {
   "cell_type": "code",
   "execution_count": null,
   "metadata": {},
   "outputs": [],
   "source": [
    "! pip install insightface onnxruntime opencv-python\n"
   ]
  },
  {
   "cell_type": "code",
   "execution_count": null,
   "metadata": {},
   "outputs": [],
   "source": [
    "from insightface.app import FaceAnalysis\n",
    "from insightface.model_zoo import get_model\n",
    "import cv2\n",
    "\n",
    "src_img = cv2.imread(\"/content/ghost-2.0/examples/images/elon.jpg\") # Source face\n",
    "ghost_img = cv2.imread(\"/content/ghost-2.0/result2.png\")    # Ghost head-swapped result\n",
    "\n",
    "app = FaceAnalysis(name='buffalo_l', providers=['CPUExecutionProvider'])\n",
    "app.prepare(ctx_id=0)\n",
    "\n",
    "# Load faces\n",
    "faces_src = app.get(src_img)\n",
    "faces_dst = app.get(ghost_img)\n",
    "\n",
    "# Load face swap model\n",
    "swapper = get_model('inswapper_128.onnx', download=True)\n",
    "\n",
    "\n",
    "if faces_src and faces_dst:\n",
    "    swapped_img = swapper.get(ghost_img, faces_dst[0], faces_src[0], paste_back=True)\n",
    "    cv2.imwrite(\"final_output2.jpg\", swapped_img)\n",
    "    print(\"FaceSwap complete. Output: final_output.jpg\")\n",
    "else:\n",
    "    print(\"Face not detected in one or both images.\")\n"
   ]
  },
  {
   "cell_type": "code",
   "execution_count": null,
   "metadata": {},
   "outputs": [],
   "source": []
  }
 ],
 "metadata": {
  "accelerator": "GPU",
  "colab": {
   "collapsed_sections": [
    "PVaAeTx0uMrB",
    "nJ000ksGuFAB",
    "3Q6IZINTuIkd",
    "18P20z7nVOwq"
   ],
   "gpuType": "T4",
   "provenance": []
  },
  "kernelspec": {
   "display_name": "Python 3",
   "name": "python3"
  },
  "language_info": {
   "name": "python"
  }
 },
 "nbformat": 4,
 "nbformat_minor": 0
}
